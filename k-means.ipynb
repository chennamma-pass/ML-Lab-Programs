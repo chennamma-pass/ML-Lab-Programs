{
 "cells": [
  {
   "cell_type": "code",
   "execution_count": 5,
   "id": "502856ed",
   "metadata": {},
   "outputs": [],
   "source": [
    "import math\n",
    "cluster1 = []\n",
    "cluster2 = []\n",
    "cluster3 = []\n",
    "x1,y1 = 6.2,3.2\n",
    "x2,y2 = 6.6,3.7\n",
    "x3,y3 = 6.5,3.0\n",
    "points = [[5.9,3.2],\n",
    "           [4.6,2.9],\n",
    "           [6.2,2.8],\n",
    "           [4.7,3.2],\n",
    "           [5.5,4.2],\n",
    "           [5.0,3.0],\n",
    "           [4.9,3.1],\n",
    "           [6.7,3.1],\n",
    "           [5.1,3.8],\n",
    "           [6.0,3.0]]"
   ]
  },
  {
   "cell_type": "code",
   "execution_count": 6,
   "id": "c5184034",
   "metadata": {},
   "outputs": [],
   "source": [
    "clist = []\n",
    "def eucledian_distance_1(a,b,xc1,yc1,xc2,yc2,xc3,yc3):\n",
    "   \n",
    "\n",
    "    dis1 = math.sqrt((a-xc1)**2 + (b-yc1)**2)\n",
    "    dis2 = math.sqrt((a-xc2)**2 + (b-yc2)**2)\n",
    "    dis3 = math.sqrt((a-xc3)**2 + (b-yc3)**2)\n",
    "    mind = min(dis1,dis2,dis3)\n",
    "    if(mind == dis1):\n",
    "        clist.append(1)\n",
    "        cluster1.append([a,b])\n",
    "    elif(mind==dis2):\n",
    "        clist.append(2)\n",
    "        cluster2.append([a,b])\n",
    "    else:\n",
    "        clist.append(3)\n",
    "        cluster3.append([a,b])"
   ]
  },
  {
   "cell_type": "code",
   "execution_count": 7,
   "id": "bf8b3ce5",
   "metadata": {},
   "outputs": [],
   "source": [
    "def fnc(cls):\n",
    "    sumi = 0\n",
    "    sumj = 0\n",
    "    for i,j in cls:\n",
    "        sumi = sumi + i\n",
    "        sumj = sumj + j\n",
    "    ncx = (sumi/len(cls))\n",
    "    ncy = (sumj/len(cls))\n",
    "    return ncx,ncy"
   ]
  },
  {
   "cell_type": "code",
   "execution_count": 8,
   "id": "ca9eeb4c",
   "metadata": {},
   "outputs": [],
   "source": [
    "for i,j in points:\n",
    "    eucledian_distance_1(i,j,x1,y1,x2,y2,x3,y3)\n",
    "   "
   ]
  },
  {
   "cell_type": "code",
   "execution_count": 9,
   "id": "93f7a01d",
   "metadata": {},
   "outputs": [
    {
     "name": "stdout",
     "output_type": "stream",
     "text": [
      "[1, 1, 3, 1, 2, 1, 1, 3, 1, 1]\n"
     ]
    }
   ],
   "source": [
    "print(clist)"
   ]
  },
  {
   "cell_type": "code",
   "execution_count": 10,
   "id": "c64a7bad",
   "metadata": {},
   "outputs": [],
   "source": [
    "clist = []\n",
    "nxc1,nyc1 = fnc(cluster1)\n",
    "nxc2,nyc2 = fnc(cluster2)\n",
    "nxc3,nyc3 = fnc(cluster3)"
   ]
  },
  {
   "cell_type": "code",
   "execution_count": 11,
   "id": "ad0ea318",
   "metadata": {},
   "outputs": [
    {
     "name": "stdout",
     "output_type": "stream",
     "text": [
      "\n",
      "New centroids are\n",
      "cluster1 5.171428571428572 3.1714285714285713\n",
      "cluster2 5.5 4.2\n",
      "cluster3 6.45 2.95\n"
     ]
    }
   ],
   "source": [
    "print(\"\\nNew centroids are\")\n",
    "print(\"cluster1\",nxc1,nyc1)\n",
    "print(\"cluster2\",nxc2,nyc2)\n",
    "print(\"cluster3\",nxc3,nyc3)"
   ]
  },
  {
   "cell_type": "code",
   "execution_count": 12,
   "id": "2c6dbabe",
   "metadata": {},
   "outputs": [],
   "source": [
    "cluster1 = []\n",
    "cluster2 = []\n",
    "cluster3 = []"
   ]
  },
  {
   "cell_type": "code",
   "execution_count": 13,
   "id": "153682eb",
   "metadata": {},
   "outputs": [],
   "source": [
    "for i,j in points:\n",
    "    eucledian_distance_1(i,j,nxc1,nyc1,nxc2,nyc2,nxc3,nyc3)\n",
    "   \n"
   ]
  },
  {
   "cell_type": "code",
   "execution_count": 14,
   "id": "70baa75c",
   "metadata": {},
   "outputs": [
    {
     "name": "stdout",
     "output_type": "stream",
     "text": [
      "\n",
      " [3, 1, 3, 1, 2, 1, 1, 3, 2, 3]\n"
     ]
    }
   ],
   "source": [
    "print(\"\\n\",clist)"
   ]
  },
  {
   "cell_type": "code",
   "execution_count": 16,
   "id": "38e4e304",
   "metadata": {},
   "outputs": [],
   "source": [
    "clist = []\n",
    "\n",
    "\n",
    "nxc1,nyc1 = fnc(cluster1)\n",
    "nxc2,nyc2 = fnc(cluster2)\n",
    "nxc3,nyc3 = fnc(cluster3)"
   ]
  },
  {
   "cell_type": "code",
   "execution_count": 17,
   "id": "38aa357b",
   "metadata": {},
   "outputs": [
    {
     "name": "stdout",
     "output_type": "stream",
     "text": [
      "\n",
      "New centroids are\n",
      "cluster1 4.800000000000001 3.05\n",
      "cluster2 5.3 4.0\n",
      "cluster3 6.2 3.025\n"
     ]
    }
   ],
   "source": [
    "print(\"\\nNew centroids are\")\n",
    "print(\"cluster1\",nxc1,nyc1)\n",
    "print(\"cluster2\",nxc2,nyc2)\n",
    "print(\"cluster3\",nxc3,nyc3)"
   ]
  },
  {
   "cell_type": "code",
   "execution_count": 18,
   "id": "7bca20dd",
   "metadata": {},
   "outputs": [],
   "source": [
    "cluster1 = []\n",
    "cluster2 = []\n",
    "cluster3 = []"
   ]
  },
  {
   "cell_type": "code",
   "execution_count": 19,
   "id": "5f84f776",
   "metadata": {},
   "outputs": [
    {
     "name": "stdout",
     "output_type": "stream",
     "text": [
      "\n",
      " [3, 1, 3, 1, 2, 1, 1, 3, 2, 3]\n"
     ]
    }
   ],
   "source": [
    "for i,j in points:\n",
    "    eucledian_distance_1(i,j,nxc1,nyc1,nxc2,nyc2,nxc3,nyc3)\n",
    "print(\"\\n\",clist)\n",
    "clist = []"
   ]
  },
  {
   "cell_type": "code",
   "execution_count": 20,
   "id": "62ace49e",
   "metadata": {},
   "outputs": [],
   "source": [
    "nxc1,nyc1 = fnc(cluster1)\n",
    "nxc2,nyc2 = fnc(cluster2)\n",
    "nxc3,nyc3 = fnc(cluster3)"
   ]
  },
  {
   "cell_type": "code",
   "execution_count": 21,
   "id": "71c9d5fc",
   "metadata": {},
   "outputs": [
    {
     "name": "stdout",
     "output_type": "stream",
     "text": [
      "\n",
      "New centroids are\n",
      "cluster1 4.800000000000001 3.05\n",
      "cluster2 5.3 4.0\n",
      "cluster3 6.2 3.025\n"
     ]
    }
   ],
   "source": [
    "print(\"\\nNew centroids are\")\n",
    "print(\"cluster1\",nxc1,nyc1)\n",
    "print(\"cluster2\",nxc2,nyc2)\n",
    "print(\"cluster3\",nxc3,nyc3)"
   ]
  },
  {
   "cell_type": "code",
   "execution_count": 22,
   "id": "5332d68d",
   "metadata": {},
   "outputs": [],
   "source": [
    "cluster1 = []\n",
    "cluster2 = []\n",
    "cluster3 = []"
   ]
  },
  {
   "cell_type": "code",
   "execution_count": 25,
   "id": "29b04a4c",
   "metadata": {},
   "outputs": [],
   "source": [
    "for i,j in points:\n",
    "    eucledian_distance_1(i,j,nxc1,nyc1,nxc2,nyc2,nxc3,nyc3)  #at the end if two iteration new\n",
    "    #cluster values are same then stop there.that means all the clusters are in state.\n"
   ]
  },
  {
   "cell_type": "code",
   "execution_count": null,
   "id": "ac3274a0",
   "metadata": {},
   "outputs": [],
   "source": []
  },
  {
   "cell_type": "code",
   "execution_count": null,
   "id": "b0e13bd8",
   "metadata": {},
   "outputs": [],
   "source": []
  }
 ],
 "metadata": {
  "kernelspec": {
   "display_name": "Python 3",
   "language": "python",
   "name": "python3"
  },
  "language_info": {
   "codemirror_mode": {
    "name": "ipython",
    "version": 3
   },
   "file_extension": ".py",
   "mimetype": "text/x-python",
   "name": "python",
   "nbconvert_exporter": "python",
   "pygments_lexer": "ipython3",
   "version": "3.8.8"
  }
 },
 "nbformat": 4,
 "nbformat_minor": 5
}
